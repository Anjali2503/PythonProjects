{
 "cells": [
  {
   "cell_type": "code",
   "execution_count": 6,
   "id": "3c2e9d16",
   "metadata": {},
   "outputs": [
    {
     "name": "stdout",
     "output_type": "stream",
     "text": [
      "Enter your guess: 25\n",
      "You guessed it wrong! Enter a smaller number: \n",
      "Enter your guess: 20\n",
      "You guessed it wrong! Enter a smaller number: \n",
      "Enter your guess: 16\n",
      "You guessed it wrong! Enter a larger number: \n",
      "Enter your guess: 17\n",
      "You guessed it wrong! Enter a larger number: \n",
      "Enter your guess: 18\n",
      "You guessed it wrong! Enter a larger number: \n",
      "Enter your guess: 19\n",
      "You guessed it right!!\n",
      "You guessed the number in 6 guesses\n"
     ]
    }
   ],
   "source": [
    "import random\n",
    "randNumber = random.randint(1,40)\n",
    "userGuess = None\n",
    "guesses = 0\n",
    "while(userGuess != randNumber):\n",
    "    userGuess = int(input(\"Enter your guess: \"))\n",
    "    guesses += 1\n",
    "    if(userGuess == randNumber):\n",
    "        print(\"You guessed it right!!\")\n",
    "    else:\n",
    "        if(userGuess>randNumber):\n",
    "            print(\"You guessed it wrong! Enter a smaller number: \")\n",
    "        else:\n",
    "            print(\"You guessed it wrong! Enter a larger number: \")\n",
    "print(f\"You guessed the number in {guesses} guesses\")\n",
    "        "
   ]
  }
 ],
 "metadata": {
  "kernelspec": {
   "display_name": "Python 3 (ipykernel)",
   "language": "python",
   "name": "python3"
  },
  "language_info": {
   "codemirror_mode": {
    "name": "ipython",
    "version": 3
   },
   "file_extension": ".py",
   "mimetype": "text/x-python",
   "name": "python",
   "nbconvert_exporter": "python",
   "pygments_lexer": "ipython3",
   "version": "3.11.3"
  }
 },
 "nbformat": 4,
 "nbformat_minor": 5
}
