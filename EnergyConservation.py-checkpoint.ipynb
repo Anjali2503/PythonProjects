{
 "cells": [
  {
   "cell_type": "code",
   "execution_count": 12,
   "id": "479a6145",
   "metadata": {},
   "outputs": [
    {
     "name": "stdout",
     "output_type": "stream",
     "text": [
      "[['MSN' 'YYYYMM' 'Value' 'Column_Order' 'Description' 'Unit']\n",
      " ['CLETPUS' '194913' '135451.32' '1'\n",
      "  'Electricity Net Generation From Coal, All Sectors'\n",
      "  'Million Kilowatthours']\n",
      " ['CLETPUS' '195013' '154519.994' '1'\n",
      "  'Electricity Net Generation From Coal, All Sectors'\n",
      "  'Million Kilowatthours']\n",
      " ...\n",
      " ['ELETPUS' '201908' '401363.186' '13'\n",
      "  'Electricity Net Generation Total (including from sources not shown), All Sectors'\n",
      "  'Million Kilowatthours']\n",
      " ['ELETPUS' '201909' '359300.603' '13'\n",
      "  'Electricity Net Generation Total (including from sources not shown), All Sectors'\n",
      "  'Million Kilowatthours']\n",
      " ['ELETPUS' '201910' '321921.812' '13'\n",
      "  'Electricity Net Generation Total (including from sources not shown), All Sectors'\n",
      "  'Million Kilowatthours']]\n"
     ]
    },
    {
     "data": {
      "text/plain": [
       "(8217, 6)"
      ]
     },
     "execution_count": 12,
     "metadata": {},
     "output_type": "execute_result"
    }
   ],
   "source": [
    "import csv\n",
    "import numpy as np\n",
    "data = []\n",
    "with open(r'C:\\Users\\CS\\Downloads\\electricity.csv') as csvfile:\n",
    "    file_reader = csv.reader(csvfile, delimiter=',')\n",
    "    for row in file_reader:\n",
    "        data.append(row)\n",
    "        \n",
    "data = np.array(data) #Convert the list of lists to a Numpy array-----------------------------------------------------------\n",
    "print(data)\n",
    "data.shape"
   ]
  },
  {
   "cell_type": "code",
   "execution_count": 28,
   "id": "04d73592",
   "metadata": {},
   "outputs": [
    {
     "name": "stdout",
     "output_type": "stream",
     "text": [
      "[['Value']\n",
      " ['135451.32']\n",
      " ['154519.994']\n",
      " ['185203.657']\n",
      " ['195436.666']\n",
      " ['218846.325']\n",
      " ['239145.966']\n",
      " ['301362.698']\n",
      " ['338503.484']\n",
      " ['346386.207']\n",
      " ['344365.781']]\n"
     ]
    }
   ],
   "source": [
    "#  Query-2:\n",
    "a = data[0:11,2:3]\n",
    "print(a)"
   ]
  },
  {
   "cell_type": "code",
   "execution_count": 25,
   "id": "21399989",
   "metadata": {},
   "outputs": [
    {
     "name": "stdout",
     "output_type": "stream",
     "text": [
      "Row-0 serves as the headers/titles for all the columns.\n"
     ]
    }
   ],
   "source": [
    "# Query-3:\n",
    "print(\"Row-0 serves as the headers/titles for all the columns.\")\n"
   ]
  },
  {
   "cell_type": "code",
   "execution_count": 29,
   "id": "fa9a8082",
   "metadata": {},
   "outputs": [
    {
     "name": "stdout",
     "output_type": "stream",
     "text": [
      "[['YYYYMM' 'Value']\n",
      " ['194913' '135451.32']\n",
      " ['195013' '154519.994']\n",
      " ['195113' '185203.657']\n",
      " ['195213' '195436.666']\n",
      " ['195313' '218846.325']\n",
      " ['195413' '239145.966']\n",
      " ['195513' '301362.698']\n",
      " ['195613' '338503.484']\n",
      " ['195713' '346386.207']\n",
      " ['195813' '344365.781']\n",
      " ['195913' '378424.21']\n",
      " ['196013' '403067.357']\n",
      " ['196113' '421870.669']\n",
      " ['196213' '450249.238']\n",
      " ['196313' '493926.719']\n",
      " ['196413' '526230.019']\n",
      " ['196513' '570925.951']\n",
      " ['196613' '613474.8']\n",
      " ['196713' '630483.363']\n",
      " ['196813' '684904.58']]\n"
     ]
    }
   ],
   "source": [
    "# Query-4:\n",
    "print(data[0:21,1:3])\n"
   ]
  },
  {
   "cell_type": "code",
   "execution_count": 30,
   "id": "79ddb608",
   "metadata": {},
   "outputs": [
    {
     "name": "stdout",
     "output_type": "stream",
     "text": [
      "Query-5:\n",
      "[['MSN' 'YYYYMM' 'Value' 'Column_Order' 'Description' 'Unit']\n",
      " ['CLETPUS' '194913' '135451.32' '1'\n",
      "  'Electricity Net Generation From Coal, All Sectors'\n",
      "  'Million Kilowatthours']\n",
      " ['CLETPUS' '195013' '154519.994' '1'\n",
      "  'Electricity Net Generation From Coal, All Sectors'\n",
      "  'Million Kilowatthours']\n",
      " ['CLETPUS' '195113' '185203.657' '1'\n",
      "  'Electricity Net Generation From Coal, All Sectors'\n",
      "  'Million Kilowatthours']] [['ELETPUS' '201908' '401363.186' '13'\n",
      "  'Electricity Net Generation Total (including from sources not shown), All Sectors'\n",
      "  'Million Kilowatthours']\n",
      " ['ELETPUS' '201909' '359300.603' '13'\n",
      "  'Electricity Net Generation Total (including from sources not shown), All Sectors'\n",
      "  'Million Kilowatthours']\n",
      " ['ELETPUS' '201910' '321921.812' '13'\n",
      "  'Electricity Net Generation Total (including from sources not shown), All Sectors'\n",
      "  'Million Kilowatthours']]\n"
     ]
    }
   ],
   "source": [
    " print(\"Query-5:\") #Printing the first three Rows and the last three Rows------------------------------------------------------\n",
    "print(data[0:4,0:],data[8214:,0:])\n"
   ]
  },
  {
   "cell_type": "code",
   "execution_count": 42,
   "id": "f950328f",
   "metadata": {},
   "outputs": [
    {
     "data": {
      "text/plain": [
       "array([7172, 7177, 7160, ..., 2114, 2094, 6418], dtype=int64)"
      ]
     },
     "execution_count": 42,
     "metadata": {},
     "output_type": "execute_result"
    }
   ],
   "source": [
    "# Query-6: Generating data on the basis of net amount of electricity generated \n",
    "# irrespective of the Source-----------------------------------------\n",
    "# a.astype('float64')\n",
    "\n",
    "a = data[1:,2]\n",
    "a.argsort()"
   ]
  },
  {
   "cell_type": "code",
   "execution_count": 44,
   "id": "db8851ee",
   "metadata": {},
   "outputs": [
    {
     "name": "stdout",
     "output_type": "stream",
     "text": [
      "Query-7:Total Amount of electricity generated between 1949-1990:\n",
      "54068365.32399999\n"
     ]
    }
   ],
   "source": [
    "print(\"Query-7:Total Amount of electricity generated between 1949-1990:\")\n",
    "a = data[1:261,2]\n",
    "# print(a)\n",
    "sum = np.sum(a,axis=0,dtype=float,initial=13.51)\n",
    "print(sum)\n"
   ]
  },
  {
   "cell_type": "code",
   "execution_count": 51,
   "id": "ac94aba3",
   "metadata": {},
   "outputs": [
    {
     "name": "stdout",
     "output_type": "stream",
     "text": [
      "Query-8: Unique Sources of Energy in the dataset:\n"
     ]
    },
    {
     "data": {
      "text/plain": [
       "array(['CLETPUS', 'ELETPUS', 'GEETPUS', 'HPETPUS', 'HVETPUS', 'NGETPUS',\n",
       "       'NUETPUS', 'OJETPUS', 'PAETPUS', 'SOETPUS', 'WDETPUS', 'WSETPUS',\n",
       "       'WYETPUS'], dtype='<U80')"
      ]
     },
     "execution_count": 51,
     "metadata": {},
     "output_type": "execute_result"
    }
   ],
   "source": [
    "print(\"Query-8: Unique Sources of Energy in the dataset:\")\n",
    "a = data[1:,0]\n",
    "np.unique(a)"
   ]
  },
  {
   "cell_type": "code",
   "execution_count": 19,
   "id": "198f8232",
   "metadata": {},
   "outputs": [
    {
     "data": {
      "text/plain": [
       "1492.525670137357"
      ]
     },
     "execution_count": 19,
     "metadata": {},
     "output_type": "execute_result"
    }
   ],
   "source": [
    "# Query-11: Average Annual Energy generated from the wind in USA--------------------------------------------------------------\n",
    "a = np.array(data[1:,1],dtype=float)\n",
    "# print(a)\n",
    "\n",
    "a.mean()\n",
    "a.std()\n"
   ]
  },
  {
   "cell_type": "code",
   "execution_count": 22,
   "id": "2f70185e",
   "metadata": {},
   "outputs": [
    {
     "name": "stdout",
     "output_type": "stream",
     "text": [
      "['75190.149' '847651.47' '72473.794' '70424.195' '76932.19' '82564.552'\n",
      " '93429.682' '97879.473' '93691.765' '88940.698' '88115.664' '95598.248'\n",
      " '104706.39' '129092.471' '1402128.125' '118361.775' '114171.65'\n",
      " '121339.387' '129399.231' '150453.899' '147479.919' '133411.196'\n",
      " '124777.417' '123992.011' '131429.813' '142053.138' '166253.884'\n",
      " '1845015.736' '157676.402' '144243.552' '159132.19' '154158.317'\n",
      " '179955.447' '181852.319' '167641.906' '153957.962' '141426.234'\n",
      " '159811.074' '166666.355' '171925.15' '1755904.253' '167258.086'\n",
      " '121462.711' '120999.339' '133110.437' '148451.623' '139099.869'\n",
      " '116034.384' '92776.551' '73346.006' '78516.414' '38404.449' '64801.224'\n",
      " '21741.975' '19940.913' '23122.664' '24782.98' '43378.623' '358178.822'\n",
      " '34026.554' '23380.251' '15858.229' '15565.877' '11753.038' '14709.748'\n",
      " '11151.74' '6859.495' '9226.796' '10007.168' '11889.894' '15917.492'\n",
      " '164358.52' '8539.352' '8362.472' '7781.598' '11058.123' '7053.626'\n",
      " '8885.625' '6747.343' '5298.966' '7970.08' '11308.196' '4906.675'\n",
      " '18111.842' '124880.221' '8111.606' '6479.533' '7666.202' '12279.15'\n",
      " '8359.695' '5493.795' '4961.967' '3208.707' '2286.351' '2692.463'\n",
      " '1901.745' '2774.72' '27164.444' '2095.166' '1709.888' '1571.377'\n",
      " '1636.512' '1926.706' '1775.341' '114212.525' '333278.945' '33118.166'\n",
      " '35350.593' '34181.9' '29715.292' '24701.328' '21339.11' '24916.06'\n",
      " '24755.111' '22080.996' '345777.173' '19962.6' '20169.388' '25782.724'\n",
      " '26272.697' '26352.173' '30511.554' '26808.398' '31057.604' '27408.563'\n",
      " '27347.645' '25994.453' '26869.202' '414926.798' '33241.522' '32338.559'\n",
      " '37737.94' '52415.164' '70347.992' '72957.639' '59138.323' '50934.205'\n",
      " '49146.409' '46699.026' '50319.875' '51337.627' '760960.254' '56128.186'\n",
      " '60636.799' '73283.339' '92126.618' '121151.269' '119623.591'\n",
      " '115597.503' '83815.592' '76781.879' '99422.72' '98552.179' '95473.394'\n",
      " '1296414.692' '109646.716' 'Not Available' 'Not Available'\n",
      " 'Not Available' 'Not Available' 'Not Available' 'Not Available'\n",
      " 'Not Available' 'Not Available' 'Not Available' 'Not Available'\n",
      " 'Not Available' 'Not Available' 'Not Available' 'Not Available'\n",
      " 'Not Available' 'Not Available' 'Not Available' 'Not Available'\n",
      " 'Not Available' 'Not Available' '646.226' '881.829' '962.749' '1087.724'\n",
      " '1100.355' '1094.717' '1177.996' '1137.482' '1133.889' '13350.634'\n",
      " '1145.915' '1161.008' '1181.96' '767.366' '1116.718' '1292.085'\n",
      " '1333.262' '1191.303' '1180.022' '1233.891' '972.332' '806.743'\n",
      " '10632.107' '951.698' '942.856' '894.958' '1086.627' '1135.134'\n",
      " '1235.443' '1043.219' '1054.656' '1098.511' '1250.898' '0' '3656.699'\n",
      " '5696.657' '7128.892' '14881.784' '14377.127' '22152.064' '250883.283'\n",
      " '25415.16' '19255.175' '24509.631' '24398.455' '24986.071' '25602.084'\n",
      " '25299.389' '28697.365' '30476.66' '37290.006' '42246.023' '46327.876'\n",
      " '529354.717' '51581.833' '46295.177' '48783.96' '49988.643' '60104.031'\n",
      " '62037.146' '57497.751' '47031.786' '47502.988' '58838.125' '64178.502'\n",
      " '68707.077' '768826.308' '68905.472' '59600.02' '62530.352' '66738.979'\n",
      " '72016.095' '72738.535' '70319.366' '65395.452' '57611.073' '65661.598'\n",
      " '63847.023' '71405.817' '789016.473' '73362.548' '60263.941' '60733.343'\n",
      " '68097.918' '72282.467' '72198.595' 'Not Available' 'Not Available'\n",
      " 'Not Available' 'Not Available' 'Not Available' 'Not Available'\n",
      " 'Not Available' 'Not Available' 'Not Available' 'Not Available'\n",
      " 'Not Available' 'Not Available' 'Not Available' 'Not Available'\n",
      " 'Not Available' 'Not Available' 'Not Available' 'Not Available'\n",
      " 'Not Available' 'Not Available' '-308.257' '-419.459' '-287.242'\n",
      " '-536.16' '-4035.572' '-225.961' '-334.788' '-382.11' '-371.14'\n",
      " '-707.132' '-606.2' '-558.728' '-622.526' '-584.772' '-777.512'\n",
      " '-691.561' '-725.387' '-6557.788' '-667.323' '-661.727' '-496.943'\n",
      " '-348.039' '-600.278' '-707.662' '-506.741' '-334.035' '-378.109'\n",
      " '-409.305' '-398.558' '-435.366' '-6494.548' '-522.071' '94772.992'\n",
      " '155536.444' '26249.203' '275430.574' '23312.388' '24669.065' '21304.322'\n",
      " '16657.479' '22426.121' '23028.538' '27974.97' '24414.025' '28224.687'\n",
      " '30582.685' '28146.08' '27835.054' '284310.538' '26200.643' '17078.681'\n",
      " '15318.091' '19412.822' '22145.195' '25493.488' '23686.565' '30698.321'\n",
      " '24696.325' '28569.531' '31796.124' '32959.532' '356453.295' '25186.678'\n",
      " '21163.42' '17186.059' '15256.027' '21083.924' '24843.094' '25252.345'\n",
      " '27278.511' '28555.683' '24163.456' '18788.886' '23490.296' '273445.094'\n",
      " '23169.071' '20680.527' '16500.61' '16961.152' '19807.247' '21014.221'\n",
      " '23236.867' '32384.181' '28115.155' '25549.937' '389.418' '268.804'\n",
      " '4.589' '10.355' '0.588' '1.858' '35.268' '307.634' '16.868' '31.079'\n",
      " '29.809' '23.321' '14.372' '13.99' '15.275' '31.256' '19.908' '58.599'\n",
      " '82.293' '2408.295' '27236.668' '3128.402' '3111.313' '3741.686'\n",
      " '3427.191' '3114.001' '3967.812' '2950.78' '3124.838' '2947.403'\n",
      " '2101.248' '3143.72' '3191.212' '35199.905' '3222.474' '3118.975'\n",
      " '3263.623' '3258.783' '3477.913' '3433.635' '3114.106' '2734.677'\n",
      " '2932.095' '3080.551' '3111.455' '3399.749' '40027.537' '3736.565'\n",
      " '3417.873' '3176.083' '3294.201' '3633.598' '3571.126' 'Not Available'\n",
      " 'Not Available' '17.158' '18.074' '15.674' '15.519' '14.84' '10.156'\n",
      " '23.239' '18.624' '10.563' '122.628' '11.681' '10.282' '52.117' '44.056'\n",
      " '57.707' '64.291' '68.454' '767.508' '1081.022' '1348.748' '1538.734'\n",
      " '1873.13' '18333.031' '1928.244' '1970.476' '2069.133' '1617.949'\n",
      " '1914.999' '1927.65' '1921.682' '1210.741' '1161.6' '1339.597' '1223.129'\n",
      " '1278.347' '15420.393' '1382.411' '1425.131' '1489.617' '1501.263'\n",
      " '1642.191' '1689.74' '1611.538' '1781.204' '1809.578' '1712.288'\n",
      " '1708.303' '1947.718' '21609.891' '1799.287' 'Not Available' '94.021'\n",
      " '143.49' '1965.713' '243.295' '318.052' '297.154' '301.267' '277.092'\n",
      " '328.236' '427.499' '458.335' '310.575' '428.696' '596.024' '774.003'\n",
      " '9325.23' '890.243' '869.989' '865.865' '1126.904' '1319.564' '1354.493'\n",
      " '1344.893' '1290.074' '1325.641' '918.627' '987.784' '1115.892'\n",
      " '14726.102' '1286.734' '1235.067' '1087.326' '1139.01' '1227.097'\n",
      " '1227.969' '1224.702' '1264.308' '1129.089' '1204.13' '1086.683'\n",
      " '1288.81' '15008.658' '1329.837' '1271.218' '1329.149' '1299.3'\n",
      " '1329.209' '1356.727' '1251.393' '1283.457' '1187.937' '1435.339'\n",
      " 'Not Available' 'Not Available' 'Not Available' 'Not Available'\n",
      " 'Not Available' 'Not Available' 'Not Available' 'Not Available'\n",
      " 'Not Available' 'Not Available' 'Not Available' 'Not Available'\n",
      " 'Not Available' 'Not Available' '0.945' '1.471' '1.377' '0.902' '0.767'\n",
      " '6.957' '250.601' '19.344' '25.157' '37.581' '56.56' '39.384' '72.572'\n",
      " '91.281' '52.864' '55.476' '38.334' '21.147' '6.5' '542.755' '4.307'\n",
      " '14.031' '33.521' '61.108' '82.993' '85.793' '128.164' '110.425'\n",
      " '112.279' '122.3' '135.24' '309.824' '9035.62' '1031.744' '1729.661'\n",
      " '3191.224' '5115.086' '6695.409' '8132.045' 'Not Available'\n",
      " 'Not Available' 'Not Available' 'Not Available' 'Not Available'\n",
      " 'Not Available' 'Not Available' 'Not Available' 'Not Available'\n",
      " 'Not Available' 'Not Available' 'Not Available' 'Not Available' '0.423'\n",
      " '0.87' '0.832' '0.46' '1.226' '0.013' '204.252' '420.392' '207.084'\n",
      " '515.629' '247.393' '3005.827' '167.335' '125.179' '253.026' '260.204'\n",
      " '421.571' '456.059' '447.007' '635.029' '1024.417' '1036.104' '1021.569'\n",
      " '1131.569' '17810.549' '2471.69' '3095.036' '4756.401' '4650.708'\n",
      " '6685.855' '7488.629' '11972.304' '16238.702' '18635.549' '15307.929'\n",
      " '20138.228' '19840.286' '254302.662' '24304.733' '296124.289'\n",
      " '797124.391' '160217.989' '1864056.632' '160009.019' '153035.097'\n",
      " '164009.445' '176497.56' '206658.749' '202522.477' '189748.486'\n",
      " '178138.553' '172876.502' '182768.722' '189810.043' '228147.888'\n",
      " '2473002.12' '213786.542' '200479.386' '210813.885' '242793.798'\n",
      " '290655.259' '294647.834' '261076.926' '244325.583' '240636.581'\n",
      " '261342.562' '270685.247' '300573.901' '3492172.283' '297986.181'\n",
      " '271095.672' '289451.903' '306928.866' '374585.823' '374396.049'\n",
      " '345085.079' '315062.11' '297858.078' '320471.243' '325105.597'\n",
      " '354992.636' '3950330.927' '362119.081' '304102.155' '311650.774'\n",
      " '340940.902' '384341.148' '400418.853' '367781.196' '322517.591'\n",
      " '300743.484' '323738.976']\n"
     ]
    },
    {
     "ename": "AxisError",
     "evalue": "axis 1 is out of bounds for array of dimension 1",
     "output_type": "error",
     "traceback": [
      "\u001b[1;31m---------------------------------------------------------------------------\u001b[0m",
      "\u001b[1;31mAxisError\u001b[0m                                 Traceback (most recent call last)",
      "Cell \u001b[1;32mIn[22], line 5\u001b[0m\n\u001b[0;32m      3\u001b[0m b \u001b[38;5;241m=\u001b[39m np\u001b[38;5;241m.\u001b[39marray(data[\u001b[38;5;241m25\u001b[39m::\u001b[38;5;241m12\u001b[39m,\u001b[38;5;241m2\u001b[39m])\n\u001b[0;32m      4\u001b[0m \u001b[38;5;28mprint\u001b[39m(b)\n\u001b[1;32m----> 5\u001b[0m np\u001b[38;5;241m.\u001b[39mamax(b,axis\u001b[38;5;241m=\u001b[39m\u001b[38;5;241m1\u001b[39m)\n",
      "File \u001b[1;32m~\\AppData\\Roaming\\Python\\Python311\\site-packages\\numpy\\core\\fromnumeric.py:2827\u001b[0m, in \u001b[0;36mamax\u001b[1;34m(a, axis, out, keepdims, initial, where)\u001b[0m\n\u001b[0;32m   2814\u001b[0m \u001b[38;5;129m@array_function_dispatch\u001b[39m(_max_dispatcher)\n\u001b[0;32m   2815\u001b[0m \u001b[38;5;28;01mdef\u001b[39;00m \u001b[38;5;21mamax\u001b[39m(a, axis\u001b[38;5;241m=\u001b[39m\u001b[38;5;28;01mNone\u001b[39;00m, out\u001b[38;5;241m=\u001b[39m\u001b[38;5;28;01mNone\u001b[39;00m, keepdims\u001b[38;5;241m=\u001b[39mnp\u001b[38;5;241m.\u001b[39m_NoValue, initial\u001b[38;5;241m=\u001b[39mnp\u001b[38;5;241m.\u001b[39m_NoValue,\n\u001b[0;32m   2816\u001b[0m          where\u001b[38;5;241m=\u001b[39mnp\u001b[38;5;241m.\u001b[39m_NoValue):\n\u001b[0;32m   2817\u001b[0m \u001b[38;5;250m    \u001b[39m\u001b[38;5;124;03m\"\"\"\u001b[39;00m\n\u001b[0;32m   2818\u001b[0m \u001b[38;5;124;03m    Return the maximum of an array or maximum along an axis.\u001b[39;00m\n\u001b[0;32m   2819\u001b[0m \n\u001b[1;32m   (...)\u001b[0m\n\u001b[0;32m   2825\u001b[0m \u001b[38;5;124;03m    ndarray.max : equivalent method\u001b[39;00m\n\u001b[0;32m   2826\u001b[0m \u001b[38;5;124;03m    \"\"\"\u001b[39;00m\n\u001b[1;32m-> 2827\u001b[0m     \u001b[38;5;28;01mreturn\u001b[39;00m _wrapreduction(a, np\u001b[38;5;241m.\u001b[39mmaximum, \u001b[38;5;124m'\u001b[39m\u001b[38;5;124mmax\u001b[39m\u001b[38;5;124m'\u001b[39m, axis, \u001b[38;5;28;01mNone\u001b[39;00m, out,\n\u001b[0;32m   2828\u001b[0m                           keepdims\u001b[38;5;241m=\u001b[39mkeepdims, initial\u001b[38;5;241m=\u001b[39minitial, where\u001b[38;5;241m=\u001b[39mwhere)\n",
      "File \u001b[1;32m~\\AppData\\Roaming\\Python\\Python311\\site-packages\\numpy\\core\\fromnumeric.py:88\u001b[0m, in \u001b[0;36m_wrapreduction\u001b[1;34m(obj, ufunc, method, axis, dtype, out, **kwargs)\u001b[0m\n\u001b[0;32m     85\u001b[0m         \u001b[38;5;28;01melse\u001b[39;00m:\n\u001b[0;32m     86\u001b[0m             \u001b[38;5;28;01mreturn\u001b[39;00m reduction(axis\u001b[38;5;241m=\u001b[39maxis, out\u001b[38;5;241m=\u001b[39mout, \u001b[38;5;241m*\u001b[39m\u001b[38;5;241m*\u001b[39mpasskwargs)\n\u001b[1;32m---> 88\u001b[0m \u001b[38;5;28;01mreturn\u001b[39;00m ufunc\u001b[38;5;241m.\u001b[39mreduce(obj, axis, dtype, out, \u001b[38;5;241m*\u001b[39m\u001b[38;5;241m*\u001b[39mpasskwargs)\n",
      "\u001b[1;31mAxisError\u001b[0m: axis 1 is out of bounds for array of dimension 1"
     ]
    }
   ],
   "source": [
    "# Query-12: Maximum annual energy generated:\n",
    "import numpy as np\n",
    "b = np.array(data[25::12,2])\n",
    "print(b)\n",
    "np.amax(b,axis=1)\n"
   ]
  }
 ],
 "metadata": {
  "kernelspec": {
   "display_name": "Python 3 (ipykernel)",
   "language": "python",
   "name": "python3"
  },
  "language_info": {
   "codemirror_mode": {
    "name": "ipython",
    "version": 3
   },
   "file_extension": ".py",
   "mimetype": "text/x-python",
   "name": "python",
   "nbconvert_exporter": "python",
   "pygments_lexer": "ipython3",
   "version": "3.11.3"
  }
 },
 "nbformat": 4,
 "nbformat_minor": 5
}
