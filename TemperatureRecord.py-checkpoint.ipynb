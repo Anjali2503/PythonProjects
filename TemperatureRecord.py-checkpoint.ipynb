{
 "cells": [
  {
   "cell_type": "code",
   "execution_count": 2,
   "id": "7789876a",
   "metadata": {},
   "outputs": [
    {
     "name": "stdout",
     "output_type": "stream",
     "text": [
      "[10 11 12 13 14 15 16 17 18 19]\n"
     ]
    }
   ],
   "source": [
    "import numpy as np\n",
    "z=np.arange(10,20)\n",
    "print(z)"
   ]
  },
  {
   "cell_type": "code",
   "execution_count": 4,
   "id": "b4b88398",
   "metadata": {},
   "outputs": [
    {
     "name": "stdout",
     "output_type": "stream",
     "text": [
      "[1.   1.25 1.5  1.75 2.  ]\n"
     ]
    }
   ],
   "source": [
    "import numpy as np\n",
    "z=np.linspace(1,2,num=5)\n",
    "print(z)"
   ]
  },
  {
   "cell_type": "code",
   "execution_count": 6,
   "id": "c47194b8",
   "metadata": {},
   "outputs": [
    {
     "name": "stdout",
     "output_type": "stream",
     "text": [
      "[1.  1.2 1.4 1.6 1.8]\n"
     ]
    }
   ],
   "source": [
    "import numpy as np\n",
    "z=np.linspace(1,2,num=5,endpoint=False)\n",
    "print(z)"
   ]
  },
  {
   "cell_type": "code",
   "execution_count": 8,
   "id": "7cf3a636",
   "metadata": {},
   "outputs": [
    {
     "name": "stdout",
     "output_type": "stream",
     "text": [
      "[[ 1  2  3  4]\n",
      " [11 12 13 14]]\n",
      "Print [[ 2  3]\n",
      " [12 13]]\n"
     ]
    }
   ],
   "source": [
    "import numpy as np\n",
    "a=np.array([np.arange(1,5),np.arange(11,15)])\n",
    "print(a)\n",
    "print(\"Print\",a[0:,1:3])"
   ]
  },
  {
   "cell_type": "code",
   "execution_count": 10,
   "id": "5bc5500a",
   "metadata": {},
   "outputs": [
    {
     "name": "stdout",
     "output_type": "stream",
     "text": [
      "[[11 12 13 14]\n",
      " [16 17 18 19]\n",
      " [21 22 23 24]]\n"
     ]
    }
   ],
   "source": [
    "import numpy as np\n",
    "z=np.array([np.arange(11,15),np.arange(16,20),np.arange(21,25)])\n",
    "print(z)"
   ]
  },
  {
   "cell_type": "code",
   "execution_count": 108,
   "id": "b8a5ea9a",
   "metadata": {},
   "outputs": [],
   "source": [
    "# import numpy as np\n",
    "# z=np.arange(0,36)\n",
    "# c=np.reshape(z,(3,4,3))\n",
    "# print(c)\n",
    "# print(c[0::2,1::2,1])"
   ]
  },
  {
   "cell_type": "code",
   "execution_count": 1,
   "id": "7178bc00",
   "metadata": {},
   "outputs": [
    {
     "name": "stdout",
     "output_type": "stream",
     "text": [
      "[[[ 15  27  10  32   8  32  15  25  12  29   9  29  10  26]\n",
      "  [ 12  31  14  29   6  20 -13  22  15  29   6  27  13  29]\n",
      "  [  6  24  11  22  10  22  10  31  10  30  10  28   6  20]\n",
      "  [  8  22   7  22  15  22  13  30  14  29  15  28  13  32]]\n",
      "\n",
      " [[ 10  32  10  24  12  22   9  20  15  21  12  28   8  20]\n",
      "  [ 14  29   6  23  13  26  14  22   6  21   6  31  15  31]\n",
      "  [ 11  22  15  32  10  32  15  25  12  23  13  29  11  29]\n",
      "  [  6  28   9  21   9  23  14  29  15  20   9  28  14  30]]\n",
      "\n",
      " [[  2  19   5  19   2  18   5  20   6  18   6   3  20   6]\n",
      "  [  4  21   3  21   5  19   5  22   4  21   7   8  21   8]\n",
      "  [  2  20   4  18   5  19   4  18   6  22   3   7  22   3]\n",
      "  [  8  18   2  21   5  19   5  19   4  20   6   6  19   2]]\n",
      "\n",
      " [[  7  21   8  19 -10  18  11  20   9  21   9  71  20  12]\n",
      "  [ 11  18   8  21  11  19   8  20   7  19  12   8  18  10]\n",
      "  [  8  19  12  18   9  21  12  19   9  20   7  10  21  11]\n",
      "  [ 12  21   9  22  11  18  10  18   8  20  11   7  22  11]]]\n"
     ]
    }
   ],
   "source": [
    "# Query-1:\n",
    "import numpy as np\n",
    "z=np.array([[15,27,10,32,8,32,15,25,12,29,9,29,10,26],[12,31,14,29,6,20,-13,22,15,29,6,27,13,29],[6,24,11,22,10,22,10,31,10,30,10,28,6,20],[8,22,7,22,15,22,13,30,14,29,15,28,13,32],[10,32,10,24,12,22,9,20,15,21,12,28,8,20],[14,29,6,23,13,26,14,22,6,21,6,31,15,31],[11,22,15,32,10,32,15,25,12,23,13,29,11,29],[6,28,9,21,9,23,14,29,15,20,9,28,14,30],[2,19,5,19,2,18,5,20,6,18,6,3,20,6],[4,21,3,21,5,19,5,22,4,21,7,8,21,8],[2,20,4,18,5,19,4,18,6,22,3,7,22,3],[8,18,2,21,5,19,5,19,4,20,6,6,19,2],[7,21,8,19,-10,18,11,20,9,21,9,71,20,12],[11,18,8,21,11,19,8,20,7,19,12,8,18,10],[8,19,12,18,9,21,12,19,9,20,7,10,21,11],[12,21,9,22,11,18,10,18,8,20,11,7,22,11]])\n",
    "# print(z)\n",
    "c=np.reshape(z,(4,4,14))\n",
    "print(c)\n",
    "# c.ndim\n",
    "# c.shape\n",
    "# c.dtype"
   ]
  },
  {
   "cell_type": "code",
   "execution_count": 2,
   "id": "e1efafaf",
   "metadata": {},
   "outputs": [
    {
     "name": "stdout",
     "output_type": "stream",
     "text": [
      "[[ 15  27  10  32   8  32  15  25  12  29   9  29  10  26]\n",
      " [ 10  32  10  24  12  22   9  20  15  21  12  28   8  20]\n",
      " [  2  19   5  19   2  18   5  20   6  18   6   3  20   6]\n",
      " [  7  21   8  19 -10  18  11  20   9  21   9  71  20  12]]\n",
      "[[[10 32]\n",
      "  [14 29]\n",
      "  [11 22]\n",
      "  [ 7 22]]\n",
      "\n",
      " [[10 24]\n",
      "  [ 6 23]\n",
      "  [15 32]\n",
      "  [ 9 21]]\n",
      "\n",
      " [[ 5 19]\n",
      "  [ 3 21]\n",
      "  [ 4 18]\n",
      "  [ 2 21]]\n",
      "\n",
      " [[ 8 19]\n",
      "  [ 8 21]\n",
      "  [12 18]\n",
      "  [ 9 22]]]\n"
     ]
    }
   ],
   "source": [
    "# Query-3:\n",
    "print(c[0:,0,0:15])\n",
    "# Query-4:\n",
    "print(c[0:4,0:4,2:4])\n"
   ]
  },
  {
   "cell_type": "code",
   "execution_count": 4,
   "id": "5775a043",
   "metadata": {},
   "outputs": [
    {
     "name": "stdout",
     "output_type": "stream",
     "text": [
      "For November the Min temperature less than 8 degrees:\n",
      "Week2: Wednesday= 6 degrees, Thursday= -13 degrees, Saturday= 6 degrees\n",
      "Week3: Monday= 6 degrees, Sunday= 6 degrees\n",
      "Week4: Tuesday= 7 degrees\n",
      "\n",
      "\n",
      "In December the Max temperature has crossed the threshold of 20 degrees for the following days:\n",
      "\n",
      "Week1: Mon= 27 degrees,Tue= 26 degrees,Wed= 26 degrees,Thu= 28 degrees,Fri= 29 degrees\n",
      "\tSat= 25 deg,Sun= 31 deg\n",
      "Week2: Mon= 23 degrees,Tue= 21 degrees,Wed= 21 degrees,Thu= 28 degrees,Fri= 23 degrees\n",
      "\tSat= 28 deg,Sun= 30 deg\n",
      "Week3: Tue= 25 degrees,Wed= 24 degrees,Thu= 31 deg,Fri= 22 deg,Sat= 28 deg,Sun= 27 deg\n",
      "Week4: Mon= 28 degrees,Wed= 26 degrees,Thu= 25 deg,Fri= 21 deg,Sat= 27 deg,Sun= 22 deg\n",
      "\n",
      "In January the Max temperature has crossed the threshold of 20 degrees for the following days:\n",
      "\n",
      "Week1: Wednesday= 21 degrees,Friday= 22 degrees\n",
      "Week2: Monday= 21 degrees,Thursday= 22 degrees,Friday= 22 degrees\n",
      "Week3: Monday= 21 degrees,Wednesday= 22 degrees\n",
      "Week4: Monday= 22 degrees,Friday= 21 degrees\n"
     ]
    }
   ],
   "source": [
    "# Query-6:\n",
    "print(\"For November the Min temperature less than 8 degrees:\")\n",
    "print(\"Week2: Wednesday= 6 degrees, Thursday= -13 degrees, Saturday= 6 degrees\")\n",
    "print(\"Week3: Monday= 6 degrees, Sunday= 6 degrees\")\n",
    "print(\"Week4: Tuesday= 7 degrees\")\n",
    "print(\"\\n\")\n",
    "# Query-7:\n",
    "print(\"In December the Max temperature has crossed the threshold of 20 degrees for the following days:\\n\")\n",
    "\n",
    "print(\"Week1: Mon= 27 degrees,Tue= 26 degrees,Wed= 26 degrees,Thu= 28 degrees,Fri= 29 degrees\\n\\tSat= 25 deg,Sun= 31 deg\")\n",
    "print(\"Week2: Mon= 23 degrees,Tue= 21 degrees,Wed= 21 degrees,Thu= 28 degrees,Fri= 23 degrees\\n\\tSat= 28 deg,Sun= 30 deg\")\n",
    "print(\"Week3: Tue= 25 degrees,Wed= 24 degrees,Thu= 31 deg,Fri= 22 deg,Sat= 28 deg,Sun= 27 deg\")\n",
    "print(\"Week4: Mon= 28 degrees,Wed= 26 degrees,Thu= 25 deg,Fri= 21 deg,Sat= 27 deg,Sun= 22 deg\\n\")\n",
    "\n",
    "print(\"In January the Max temperature has crossed the threshold of 20 degrees for the following days:\\n\")\n",
    "\n",
    "print(\"Week1: Wednesday= 21 degrees,Friday= 22 degrees\")\n",
    "print(\"Week2: Monday= 21 degrees,Thursday= 22 degrees,Friday= 22 degrees\")\n",
    "print(\"Week3: Monday= 21 degrees,Wednesday= 22 degrees\")\n",
    "print(\"Week4: Monday= 22 degrees,Friday= 21 degrees\")"
   ]
  },
  {
   "cell_type": "code",
   "execution_count": 5,
   "id": "8876df35",
   "metadata": {},
   "outputs": [
    {
     "name": "stdout",
     "output_type": "stream",
     "text": [
      "Average maximum temp for the Winter months in Jaipur:\n",
      "\n",
      "Average= 25.375\n"
     ]
    }
   ],
   "source": [
    "# Query-12:\n",
    "print(\"Average maximum temp for the Winter months in Jaipur:\\n\")\n",
    "n_num=[22,23,32,25,22,29,23,22,25,26,25,31,26,32,25,21,21,28,29,22,26,20,29,21,29,26,21,28,27,23,20,28,26,21,25,20,26,21,24,26,28,28,31,25,29,23,22,21,25,28,28,27,31,30,27,22]\n",
    "n=len(n_num)\n",
    "get_num=sum(n_num)\n",
    "mean=get_num/n\n",
    "print(\"Average= \" + str(mean))\n"
   ]
  },
  {
   "cell_type": "code",
   "execution_count": 6,
   "id": "fdc15e96",
   "metadata": {},
   "outputs": [
    {
     "name": "stdout",
     "output_type": "stream",
     "text": [
      "Weekly minimum Average temp for the month of December in Jaipur:\n",
      "\n",
      "For Week 1: 11.428571428571429\n",
      "For Week 2: 10.0\n",
      "For Week 3: 8.714285714285714\n",
      "For Week 4: 9.142857142857142\n"
     ]
    }
   ],
   "source": [
    "# Query-13:\n",
    "print(\"Weekly minimum Average temp for the month of December in Jaipur:\\n\")\n",
    "\n",
    "n_num=[8,15,14,15,10,8,10]\n",
    "n=len(n_num)\n",
    "get_num=sum(n_num)\n",
    "mean=get_num/n\n",
    "print(\"For Week 1: \"+str(mean))\n",
    "\n",
    "a_num=[13,12,10,14,8,6,7]\n",
    "a=len(a_num)\n",
    "get_num=sum(a_num)\n",
    "mean=get_num/a\n",
    "print(\"For Week 2: \"+str(mean))\n",
    "\n",
    "b_num=[15,8,7,6,7,10,8]\n",
    "b=len(b_num)\n",
    "get_num=sum(b_num)\n",
    "mean=get_num/b\n",
    "print(\"For Week 3: \"+str(mean))\n",
    "\n",
    "c_num=[7,15,7,13,6,9,7]\n",
    "c=len(c_num)\n",
    "get_num=sum(c_num)\n",
    "mean=get_num/c\n",
    "print(\"For Week 4: \"+str(mean))\n"
   ]
  },
  {
   "cell_type": "code",
   "execution_count": 7,
   "id": "ea5a9b3c",
   "metadata": {},
   "outputs": [
    {
     "name": "stdout",
     "output_type": "stream",
     "text": [
      "Overall Average temp for the months of December and January:\n",
      "\n",
      "December: 17.928571428571427\n",
      "January: 11.071428571428571\n",
      "In December:\n",
      "Week2,Saturday= 6 degrees  Week3,Thursday= 6 degrees  Week4,Friday= 6 degrees\n",
      "\n",
      "In January:\n",
      "Week2: Monday= 2 degrees, Tuesday= 2 deg, Wednesday= 2 deg, Saturday= 2 deg\n",
      "Week3: Tuesday= 2 degrees, Thursday= 2 degrees  Week4,Saturday= 2 degrees\n"
     ]
    }
   ],
   "source": [
    "# Query-14:\n",
    "print(\"Overall Average temp for the months of December and January:\\n\")\n",
    "n_num=[8,13,15,7,27,25,25,30,15,12,8,15,27,21,25,32,14,10,7,7,28,20,21,26,15,14,6,13,23,30,22,31,10,8,7,6,27,22,32,21,8,6,10,9,22,28,30,31,10,7,8,7,26,20,30,27]\n",
    "n=len(n_num)\n",
    "get_num=sum(n_num)\n",
    "mean=get_num/n\n",
    "print(\"December: \"+str(mean))\n",
    "\n",
    "a_num=[4,2,4,5,19,19,21,20,5,2,2,5,18,22,21,21,7,2,3,7,20,19,18,22,3,6,2,8,19,18,22,21,4,3,5,3,18,22,21,19,5,2,8,2,7,4,8,4,22,20,18,19,5,8,4,2]\n",
    "a=len(a_num)\n",
    "get_num=sum(a_num)\n",
    "mean=get_num/a\n",
    "print(\"January: \"+str(mean))\n",
    "\n",
    "# Query-15:\n",
    "print(\"In December:\")\n",
    "print(\"Week2,Saturday= 6 degrees  Week3,Thursday= 6 degrees  Week4,Friday= 6 degrees\\n\")\n",
    "print(\"In January:\")\n",
    "print(\"Week2: Monday= 2 degrees, Tuesday= 2 deg, Wednesday= 2 deg, Saturday= 2 deg\")\n",
    "print(\"Week3: Tuesday= 2 degrees, Thursday= 2 degrees  Week4,Saturday= 2 degrees\")"
   ]
  },
  {
   "cell_type": "code",
   "execution_count": 8,
   "id": "dd6d18b2",
   "metadata": {},
   "outputs": [
    {
     "name": "stdout",
     "output_type": "stream",
     "text": [
      "The maximum temp in the month of February is 71 degrees on Saturday, Week 1 of February.\n",
      "Average temp for the month of November: 17.857142857142858\n"
     ]
    }
   ],
   "source": [
    "# Query-16:\n",
    "print(\"The maximum temp in the month of February is 71 degrees on Saturday, Week 1 of February.\")\n",
    "\n",
    "# Query-17:\n",
    "n_num=[14,7,10,8,22,26,21,29,6,10,7,14,29,27,29,23,9,14,10,10,30,26,26,27,11,-13,9,11,28,27,22,32,12,9,12,13,23,31,21,21,10,7,7,7,27,29,24,27,8,14,15,15,27,23,28,29]\n",
    "n=len(n_num)\n",
    "get_num=sum(n_num)\n",
    "mean=get_num/n\n",
    "print(\"Average temp for the month of November: \"+str(mean))"
   ]
  },
  {
   "cell_type": "code",
   "execution_count": 15,
   "id": "346e22fa",
   "metadata": {},
   "outputs": [
    {
     "name": "stdout",
     "output_type": "stream",
     "text": [
      "Converting celsius to fahrenheit-------------------------------------------------------------------------\n",
      "\n",
      "For November:\n",
      "\n",
      "Week 1:  [46.4 77.  51.8 69.8 53.6 71.6 53.6 69.8 55.4 73.4 51.8 78.8 59.  80.6]\n",
      "Week 2:  [46.4 87.8 46.4 78.8 59.  82.4  8.6 80.6 53.6 87.8 57.2 89.6 44.6 78.8]\n",
      "Week 3:  [55.4 84.2 51.8 86.  44.6 78.8 57.2 80.6 57.2 87.8 53.6 78.8 46.4 89.6]\n",
      "Week 4:  [57.2 77.  51.8 82.4 48.2 89.6 46.4 80.6 51.8 75.2 44.6 86.  57.2 73.4]\n",
      "\n",
      "\n",
      "For December:\n",
      "\n",
      "Week 1:  [57.2 89.6 48.2 69.8 50.  73.4 59.  73.4 48.2 75.2 50.  68.  57.2 73.4]\n",
      "Week 2:  [44.6 82.4 59.  84.2 51.8 68.  53.6 68.  44.6 75.2 53.6 69.8 46.4 86. ]\n",
      "Week 3:  [42.8 68.  50.  78.8 51.8 68.  53.6 87.8 55.4 82.4 55.4 84.2 55.4 71.6]\n",
      "Week 4:  [46.4 80.6 48.2 69.8 51.8 86.  44.6 68.  55.4 77.  50.  68.  51.8 82.4]\n",
      "\n",
      "\n",
      "For January:\n",
      "\n",
      "Week 1:  [35.6 66.2 46.4 64.4 37.4 66.2 46.4 71.6 37.4 68.  39.2 41.  68.  39.2]\n",
      "Week 2:  [42.8 66.2 37.4 64.4 37.4 68.  44.6 71.6 37.4 68.  39.2 37.4 71.6 37.4]\n",
      "Week 3:  [44.6 64.4 37.4 66.2 35.6 69.8 42.8 68.  37.4 64.4 46.4 39.2 64.4 44.6]\n",
      "Week 4:  [37.4 71.6 37.4 68.  39.2 64.4 42.8 69.8 39.2 66.2 41.  42.8 71.6 44.6]\n",
      "\n",
      "\n",
      "For February:\n",
      "\n",
      "Week 1:  [ 51.8  64.4  53.6  66.2  14.   68.   48.2  66.2  46.4  71.6  46.4 159.8\n",
      "  68.   50. ]\n",
      "Week 2:  [50.  69.8 46.4 68.  46.4 66.2 44.6 66.2 50.  69.8 44.6 53.6 64.4 44.6]\n",
      "Week 3:  [50.  69.8 46.4 64.4 44.6 69.8 51.8 69.8 50.  68.  46.4 50.  68.  50. ]\n",
      "Week 4:  [48.2 64.4 50.  69.8 51.8 66.2 50.  66.2 50.  71.6 44.6 51.8 71.6 46.4]\n"
     ]
    }
   ],
   "source": [
    "# Query-19:\n",
    "print(\"Converting celsius to fahrenheit-------------------------------------------------------------------------\\n\")\n",
    "# deg(fah)=(deg(cel)*9/5)+32\n",
    "\n",
    "a=np.array([8,25,11,21,12,22,12,21,13,23,11,26,15,27])\n",
    "b=np.array([8,31,8,26,15,28,-13,27,12,31,14,32,7,26])\n",
    "c=np.array([13,29,11,30,7,26,14,27,14,31,12,26,8,32])\n",
    "d=np.array([14,25,11,28,9,32,8,27,11,24,7,30,14,23])\n",
    "\n",
    "print(\"For November:\\n\")\n",
    "\n",
    "a=(a*9/5)+32\n",
    "print(\"Week 1: \",a)\n",
    "b=(b*9/5)+32\n",
    "print(\"Week 2: \",b)\n",
    "c=(c*9/5)+32\n",
    "print(\"Week 3: \",c)\n",
    "d=(d*9/5)+32\n",
    "print(\"Week 4: \",d)\n",
    "print(\"\\n\")\n",
    "\n",
    "print(\"For December:\\n\")\n",
    "\n",
    "e=np.array([14,32,9,21,10,23,15,23,9,24,10,20,14,23])\n",
    "f=np.array([7,28,15,29,11,20,12,20,7,24,12,21,8,30])\n",
    "g=np.array([6,20,10,26,11,20,12,31,13,28,13,29,13,22])\n",
    "h=np.array([8,27,9,21,11,30,7,20,13,25,10,20,11,28])\n",
    "\n",
    "e=(e*9/5)+32\n",
    "print(\"Week 1: \",e)\n",
    "f=(f*9/5)+32\n",
    "print(\"Week 2: \",f)\n",
    "g=(g*9/5)+32\n",
    "print(\"Week 3: \",g)\n",
    "h=(h*9/5)+32\n",
    "print(\"Week 4: \",h)\n",
    "print(\"\\n\")\n",
    "\n",
    "print(\"For January:\\n\")\n",
    "\n",
    "p=np.array([2,19,8,18,3,19,8,22,3,20,4,5,20,4])\n",
    "q=np.array([6,19,3,18,3,20,7,22,3,20,4,3,22,3])\n",
    "r=np.array([7,18,3,19,2,21,6,20,3,18,8,4,18,7])\n",
    "s=np.array([3,22,3,20,4,18,6,21,4,19,5,6,22,7])\n",
    "\n",
    "p=(p*9/5)+32\n",
    "print(\"Week 1: \",p)\n",
    "q=(q*9/5)+32\n",
    "print(\"Week 2: \",q)\n",
    "r=(r*9/5)+32\n",
    "print(\"Week 3: \",r)\n",
    "s=(s*9/5)+32\n",
    "print(\"Week 4: \",s)\n",
    "\n",
    "print(\"\\n\")\n",
    "print(\"For February:\\n\")\n",
    "u=np.array([11,18,12,19,-10,20,9,19,8,22,8,71,20,10])\n",
    "v=np.array([10,21,8,20,8,19,7,19,10,21,7,12,18,7])\n",
    "w=np.array([10,21,8,18,7,21,11,21,10,20,8,10,20,10])\n",
    "x=np.array([9,18,10,21,11,19,10,19,10,22,7,11,22,8])\n",
    "\n",
    "u=(u*9/5)+32\n",
    "print(\"Week 1: \",u)\n",
    "v=(v*9/5)+32\n",
    "print(\"Week 2: \",v)\n",
    "w=(w*9/5)+32\n",
    "print(\"Week 3: \",w)\n",
    "x=(x*9/5)+32\n",
    "print(\"Week 4: \",x)\n"
   ]
  },
  {
   "cell_type": "code",
   "execution_count": 16,
   "id": "06db9e46",
   "metadata": {},
   "outputs": [
    {
     "name": "stdout",
     "output_type": "stream",
     "text": [
      "Printing the Difference between Maximum temp of two consecutive days:\n",
      "\n",
      "In December:\n",
      "Week 1: 11 deg, 0 deg, 4 deg, -3 deg\n",
      "Week 2: -1 deg, 0 deg, 3 deg, -9 deg\n",
      "Week 3: -6 deg, -11 deg, -1 deg, 7 deg\n",
      "Week 4: 6 deg, 10 deg, 5 deg, -8 deg\n",
      "\n",
      "\n",
      "In January:\n",
      "Week 1: 1 deg, -3 deg, 15 deg, 1 deg\n",
      "Week 2: 1 deg, -2 deg, 17 deg, 0 deg\n",
      "Week 3: -1 deg, 1 deg, 14 deg, -3 deg\n",
      "Week 4: 2 deg, -3 deg, 13 deg, -1 deg\n"
     ]
    }
   ],
   "source": [
    "# Query-23:\n",
    "print(\"Printing the Difference between Maximum temp of two consecutive days:\\n\")\n",
    "print(\"In December:\")\n",
    "print(\"Week 1: 11 deg, 0 deg, 4 deg, -3 deg\")\n",
    "print(\"Week 2: -1 deg, 0 deg, 3 deg, -9 deg\")\n",
    "print(\"Week 3: -6 deg, -11 deg, -1 deg, 7 deg\")\n",
    "print(\"Week 4: 6 deg, 10 deg, 5 deg, -8 deg\")\n",
    "print(\"\\n\")\n",
    "print(\"In January:\")\n",
    "print(\"Week 1: 1 deg, -3 deg, 15 deg, 1 deg\")\n",
    "print(\"Week 2: 1 deg, -2 deg, 17 deg, 0 deg\")\n",
    "print(\"Week 3: -1 deg, 1 deg, 14 deg, -3 deg\")\n",
    "print(\"Week 4: 2 deg, -3 deg, 13 deg, -1 deg\")"
   ]
  },
  {
   "cell_type": "code",
   "execution_count": 17,
   "id": "01e2b73e",
   "metadata": {},
   "outputs": [
    {
     "name": "stdout",
     "output_type": "stream",
     "text": [
      "Printing the Difference between Minimum temp of two consecutive days:\n",
      "\n",
      "In December:\n",
      "Week 1: 5 deg, -5 deg, -4 deg, -1 deg\n",
      "Week 2: -8 deg, -1 deg, -5 deg, 4 deg\n",
      "Week 3: -4 deg, -1 deg, 0 deg, 0 deg\n",
      "Week 4: -1 deg, 4 deg, 3 deg, -1 deg\n",
      "\n",
      "\n",
      "In January:\n",
      "Week 1: -6 deg, -5 deg, -1 deg, -16 deg\n",
      "Week 2: 3 deg, -4 deg, -1 deg, -18 deg\n",
      "Week 3: 4 deg, -4 deg, -5 deg, -10 deg\n",
      "Week 4: 0 deg, -2 deg, -1 deg, -17 deg\n"
     ]
    }
   ],
   "source": [
    "# Query-24:\n",
    "print(\"Printing the Difference between Minimum temp of two consecutive days:\\n\")\n",
    "print(\"In December:\")\n",
    "print(\"Week 1: 5 deg, -5 deg, -4 deg, -1 deg\")\n",
    "print(\"Week 2: -8 deg, -1 deg, -5 deg, 4 deg\")\n",
    "print(\"Week 3: -4 deg, -1 deg, 0 deg, 0 deg\")\n",
    "print(\"Week 4: -1 deg, 4 deg, 3 deg, -1 deg\")\n",
    "print(\"\\n\")\n",
    "print(\"In January:\")\n",
    "print(\"Week 1: -6 deg, -5 deg, -1 deg, -16 deg\")\n",
    "print(\"Week 2: 3 deg, -4 deg, -1 deg, -18 deg\")\n",
    "print(\"Week 3: 4 deg, -4 deg, -5 deg, -10 deg\")\n",
    "print(\"Week 4: 0 deg, -2 deg, -1 deg, -17 deg\")"
   ]
  }
 ],
 "metadata": {
  "kernelspec": {
   "display_name": "Python 3 (ipykernel)",
   "language": "python",
   "name": "python3"
  },
  "language_info": {
   "codemirror_mode": {
    "name": "ipython",
    "version": 3
   },
   "file_extension": ".py",
   "mimetype": "text/x-python",
   "name": "python",
   "nbconvert_exporter": "python",
   "pygments_lexer": "ipython3",
   "version": "3.11.3"
  }
 },
 "nbformat": 4,
 "nbformat_minor": 5
}
